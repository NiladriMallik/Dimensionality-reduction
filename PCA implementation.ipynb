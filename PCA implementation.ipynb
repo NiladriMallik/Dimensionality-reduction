{
 "cells": [
  {
   "cell_type": "code",
   "execution_count": 1,
   "id": "94e28c14-55d8-441b-b307-cd69b8b9095f",
   "metadata": {},
   "outputs": [],
   "source": [
    "import numpy as np\n",
    "from numpy import round\n",
    "from numpy.linalg import eig\n",
    "from sklearn.cluster import KMeans\n",
    "from scipy.spatial.distance import pdist, squareform\n",
    "from scipy.sparse.linalg import eigsh\n",
    "import pandas as pd\n",
    "import matplotlib.pyplot as plt\n",
    "import seaborn as sns\n",
    "sns.set()"
   ]
  },
  {
   "cell_type": "code",
   "execution_count": 2,
   "id": "0c44cea7-d7da-4f8d-a2a9-e12cb612ad6f",
   "metadata": {},
   "outputs": [],
   "source": [
    "def PCA(X, k):\n",
    "    #centering each column by subtracting mean of each column from each data point\n",
    "    X_centered = X.sub(X.mean())\n",
    "\n",
    "    #calculating covariance matrix of centered data points\n",
    "    covariance_matrix = X_centered.cov()\n",
    "\n",
    "    #calculating eigen values and eigen vectors of the covariance matrix\n",
    "    evalues, evectors = eig(covariance_matrix)\n",
    "\n",
    "    #sorting the eigen values in descending order and selecting k largest eigen values\n",
    "    #and corresponding eigen vectors\n",
    "    idx = evalues.argsort()[-k:][::-1]\n",
    "    evalues = evalues[idx]\n",
    "    evectors = evectors[:,idx]\n",
    "    \n",
    "    #projecting the data onto the selected eigen vectors\n",
    "    X_reduced = X_centered @ evectors\n",
    "\n",
    "    X_reduced.columns =['PC'+str(_+1) for _ in range(len(X_reduced.columns))]\n",
    "    \n",
    "    return X_reduced, evectors"
   ]
  },
  {
   "cell_type": "code",
   "execution_count": 3,
   "id": "6a4e98a1-9592-47c1-961e-60419e678a5a",
   "metadata": {},
   "outputs": [
    {
     "data": {
      "text/html": [
       "<div>\n",
       "<style scoped>\n",
       "    .dataframe tbody tr th:only-of-type {\n",
       "        vertical-align: middle;\n",
       "    }\n",
       "\n",
       "    .dataframe tbody tr th {\n",
       "        vertical-align: top;\n",
       "    }\n",
       "\n",
       "    .dataframe thead th {\n",
       "        text-align: right;\n",
       "    }\n",
       "</style>\n",
       "<table border=\"1\" class=\"dataframe\">\n",
       "  <thead>\n",
       "    <tr style=\"text-align: right;\">\n",
       "      <th></th>\n",
       "      <th>X1</th>\n",
       "      <th>X2</th>\n",
       "      <th>X3</th>\n",
       "      <th>X4</th>\n",
       "      <th>Label</th>\n",
       "    </tr>\n",
       "  </thead>\n",
       "  <tbody>\n",
       "    <tr>\n",
       "      <th>0</th>\n",
       "      <td>5.1</td>\n",
       "      <td>3.5</td>\n",
       "      <td>1.4</td>\n",
       "      <td>0.2</td>\n",
       "      <td>Iris-setosa</td>\n",
       "    </tr>\n",
       "    <tr>\n",
       "      <th>1</th>\n",
       "      <td>4.9</td>\n",
       "      <td>3.0</td>\n",
       "      <td>1.4</td>\n",
       "      <td>0.2</td>\n",
       "      <td>Iris-setosa</td>\n",
       "    </tr>\n",
       "    <tr>\n",
       "      <th>2</th>\n",
       "      <td>4.7</td>\n",
       "      <td>3.2</td>\n",
       "      <td>1.3</td>\n",
       "      <td>0.2</td>\n",
       "      <td>Iris-setosa</td>\n",
       "    </tr>\n",
       "    <tr>\n",
       "      <th>3</th>\n",
       "      <td>4.6</td>\n",
       "      <td>3.1</td>\n",
       "      <td>1.5</td>\n",
       "      <td>0.2</td>\n",
       "      <td>Iris-setosa</td>\n",
       "    </tr>\n",
       "    <tr>\n",
       "      <th>4</th>\n",
       "      <td>5.0</td>\n",
       "      <td>3.6</td>\n",
       "      <td>1.4</td>\n",
       "      <td>0.2</td>\n",
       "      <td>Iris-setosa</td>\n",
       "    </tr>\n",
       "  </tbody>\n",
       "</table>\n",
       "</div>"
      ],
      "text/plain": [
       "    X1   X2   X3   X4        Label\n",
       "0  5.1  3.5  1.4  0.2  Iris-setosa\n",
       "1  4.9  3.0  1.4  0.2  Iris-setosa\n",
       "2  4.7  3.2  1.3  0.2  Iris-setosa\n",
       "3  4.6  3.1  1.5  0.2  Iris-setosa\n",
       "4  5.0  3.6  1.4  0.2  Iris-setosa"
      ]
     },
     "execution_count": 3,
     "metadata": {},
     "output_type": "execute_result"
    }
   ],
   "source": [
    "iris_df = pd.read_csv('https://archive.ics.uci.edu/ml/machine-learning-databases/iris/iris.data', header=None)\n",
    "iris_df.columns = ['X1', 'X2', 'X3', 'X4', 'Label']\n",
    "iris_df.head()"
   ]
  },
  {
   "cell_type": "code",
   "execution_count": 4,
   "id": "cc3b30e0-3473-4e6e-a530-9a8d585cf194",
   "metadata": {},
   "outputs": [],
   "source": [
    "X = iris_df[iris_df.columns[:-1]]\n",
    "y = iris_df[iris_df.columns[-1]]"
   ]
  },
  {
   "cell_type": "code",
   "execution_count": 5,
   "id": "b1205ef0-b92d-4766-85f3-d5ee3b548efd",
   "metadata": {},
   "outputs": [
    {
     "data": {
      "text/html": [
       "<div>\n",
       "<style scoped>\n",
       "    .dataframe tbody tr th:only-of-type {\n",
       "        vertical-align: middle;\n",
       "    }\n",
       "\n",
       "    .dataframe tbody tr th {\n",
       "        vertical-align: top;\n",
       "    }\n",
       "\n",
       "    .dataframe thead th {\n",
       "        text-align: right;\n",
       "    }\n",
       "</style>\n",
       "<table border=\"1\" class=\"dataframe\">\n",
       "  <thead>\n",
       "    <tr style=\"text-align: right;\">\n",
       "      <th></th>\n",
       "      <th>PC1</th>\n",
       "      <th>PC2</th>\n",
       "    </tr>\n",
       "  </thead>\n",
       "  <tbody>\n",
       "    <tr>\n",
       "      <th>0</th>\n",
       "      <td>-2.684207</td>\n",
       "      <td>-0.326607</td>\n",
       "    </tr>\n",
       "    <tr>\n",
       "      <th>1</th>\n",
       "      <td>-2.715391</td>\n",
       "      <td>0.169557</td>\n",
       "    </tr>\n",
       "    <tr>\n",
       "      <th>2</th>\n",
       "      <td>-2.889820</td>\n",
       "      <td>0.137346</td>\n",
       "    </tr>\n",
       "    <tr>\n",
       "      <th>3</th>\n",
       "      <td>-2.746437</td>\n",
       "      <td>0.311124</td>\n",
       "    </tr>\n",
       "    <tr>\n",
       "      <th>4</th>\n",
       "      <td>-2.728593</td>\n",
       "      <td>-0.333925</td>\n",
       "    </tr>\n",
       "  </tbody>\n",
       "</table>\n",
       "</div>"
      ],
      "text/plain": [
       "        PC1       PC2\n",
       "0 -2.684207 -0.326607\n",
       "1 -2.715391  0.169557\n",
       "2 -2.889820  0.137346\n",
       "3 -2.746437  0.311124\n",
       "4 -2.728593 -0.333925"
      ]
     },
     "execution_count": 5,
     "metadata": {},
     "output_type": "execute_result"
    }
   ],
   "source": [
    "X_reduced_df, evectors = PCA(X, 2)\n",
    "X_reduced_df.head()"
   ]
  },
  {
   "cell_type": "code",
   "execution_count": 6,
   "id": "993457b7-2ea4-4369-a0f6-4604aa3cc9e6",
   "metadata": {},
   "outputs": [
    {
     "data": {
      "text/plain": [
       "PC1    4.224841\n",
       "PC2    0.242244\n",
       "dtype: float64"
      ]
     },
     "execution_count": 6,
     "metadata": {},
     "output_type": "execute_result"
    }
   ],
   "source": [
    "X_reduced_df.var()"
   ]
  },
  {
   "cell_type": "code",
   "execution_count": 7,
   "id": "f95e64b9-e71b-4f22-9c1f-2ca83bb4c200",
   "metadata": {},
   "outputs": [
    {
     "data": {
      "text/html": [
       "<div>\n",
       "<style scoped>\n",
       "    .dataframe tbody tr th:only-of-type {\n",
       "        vertical-align: middle;\n",
       "    }\n",
       "\n",
       "    .dataframe tbody tr th {\n",
       "        vertical-align: top;\n",
       "    }\n",
       "\n",
       "    .dataframe thead th {\n",
       "        text-align: right;\n",
       "    }\n",
       "</style>\n",
       "<table border=\"1\" class=\"dataframe\">\n",
       "  <thead>\n",
       "    <tr style=\"text-align: right;\">\n",
       "      <th></th>\n",
       "      <th>PC1</th>\n",
       "      <th>PC2</th>\n",
       "    </tr>\n",
       "  </thead>\n",
       "  <tbody>\n",
       "    <tr>\n",
       "      <th>PC1</th>\n",
       "      <td>4.224841e+00</td>\n",
       "      <td>6.911741e-17</td>\n",
       "    </tr>\n",
       "    <tr>\n",
       "      <th>PC2</th>\n",
       "      <td>6.911741e-17</td>\n",
       "      <td>2.422436e-01</td>\n",
       "    </tr>\n",
       "  </tbody>\n",
       "</table>\n",
       "</div>"
      ],
      "text/plain": [
       "              PC1           PC2\n",
       "PC1  4.224841e+00  6.911741e-17\n",
       "PC2  6.911741e-17  2.422436e-01"
      ]
     },
     "execution_count": 7,
     "metadata": {},
     "output_type": "execute_result"
    }
   ],
   "source": [
    "X_reduced_df.cov()"
   ]
  },
  {
   "cell_type": "code",
   "execution_count": 8,
   "id": "e6f48ad2-8f1c-494f-9914-a50a17bf6edb",
   "metadata": {},
   "outputs": [
    {
     "name": "stdout",
     "output_type": "stream",
     "text": [
      "PC1 captures about 94.58 % of the variance.\n",
      "PC2 captures about 5.42 % of the variance.\n"
     ]
    }
   ],
   "source": [
    "print(f\"PC1 captures about {np.round(X_reduced_df['PC1'].var()/sum(X_reduced_df.var()) * 100, decimals = 2)} % of the variance.\")\n",
    "print(f\"PC2 captures about {np.round(X_reduced_df['PC2'].var()/sum(X_reduced_df.var()) * 100, decimals = 2)} % of the variance.\")"
   ]
  },
  {
   "cell_type": "markdown",
   "id": "253d4999-095b-4b99-bbdf-4711f92148e4",
   "metadata": {},
   "source": [
    "## Spectral Clustering"
   ]
  },
  {
   "cell_type": "code",
   "execution_count": 9,
   "id": "c54fea31-c184-4988-97ab-aa2c990920eb",
   "metadata": {},
   "outputs": [],
   "source": [
    "def spectral_clustering(X, n_clusters):\n",
    "    similarity_matrix = np.exp(-squareform(pdist(X,'sqeuclidean')))\n",
    "\n",
    "    #compute degree matrix\n",
    "    D = np.diag(np.sum(similarity_matrix, axis = 1))\n",
    "\n",
    "    #compute laplacian matrix\n",
    "    L = D - similarity_matrix\n",
    "\n",
    "    #compute eigenvectors corresponding to the smallest eigenvalues\n",
    "    _, evectors = eigsh(L, k = n_clusters, which = 'SM')\n",
    "\n",
    "    #perform KMeans clustering on eigenvectors\n",
    "    kmeans = KMeans(n_clusters = n_clusters, random_state = 69)\n",
    "    labels = kmeans.fit_predict(evectors)\n",
    "\n",
    "    return labels"
   ]
  },
  {
   "cell_type": "code",
   "execution_count": 10,
   "id": "22ec3193-1f2b-4d28-b9a2-752377b621ca",
   "metadata": {},
   "outputs": [],
   "source": [
    "def label_mapping(y):\n",
    "    species_names = y.unique()\n",
    "    label_mapping = {species_names[i]: i for i in range(len(species_names))}\n",
    "    y_mapped = y.map(label_mapping)\n",
    "\n",
    "    return y_mapped"
   ]
  },
  {
   "cell_type": "code",
   "execution_count": 11,
   "id": "17222bb1-3991-4df4-b1ab-7f8497d2026a",
   "metadata": {},
   "outputs": [
    {
     "data": {
      "text/html": [
       "<div>\n",
       "<style scoped>\n",
       "    .dataframe tbody tr th:only-of-type {\n",
       "        vertical-align: middle;\n",
       "    }\n",
       "\n",
       "    .dataframe tbody tr th {\n",
       "        vertical-align: top;\n",
       "    }\n",
       "\n",
       "    .dataframe thead th {\n",
       "        text-align: right;\n",
       "    }\n",
       "</style>\n",
       "<table border=\"1\" class=\"dataframe\">\n",
       "  <thead>\n",
       "    <tr style=\"text-align: right;\">\n",
       "      <th></th>\n",
       "      <th>PC1</th>\n",
       "      <th>PC2</th>\n",
       "      <th>IntegerLabels</th>\n",
       "    </tr>\n",
       "  </thead>\n",
       "  <tbody>\n",
       "    <tr>\n",
       "      <th>0</th>\n",
       "      <td>-2.684207</td>\n",
       "      <td>-0.326607</td>\n",
       "      <td>0</td>\n",
       "    </tr>\n",
       "    <tr>\n",
       "      <th>1</th>\n",
       "      <td>-2.715391</td>\n",
       "      <td>0.169557</td>\n",
       "      <td>0</td>\n",
       "    </tr>\n",
       "    <tr>\n",
       "      <th>2</th>\n",
       "      <td>-2.889820</td>\n",
       "      <td>0.137346</td>\n",
       "      <td>0</td>\n",
       "    </tr>\n",
       "    <tr>\n",
       "      <th>3</th>\n",
       "      <td>-2.746437</td>\n",
       "      <td>0.311124</td>\n",
       "      <td>0</td>\n",
       "    </tr>\n",
       "    <tr>\n",
       "      <th>4</th>\n",
       "      <td>-2.728593</td>\n",
       "      <td>-0.333925</td>\n",
       "      <td>0</td>\n",
       "    </tr>\n",
       "  </tbody>\n",
       "</table>\n",
       "</div>"
      ],
      "text/plain": [
       "        PC1       PC2  IntegerLabels\n",
       "0 -2.684207 -0.326607              0\n",
       "1 -2.715391  0.169557              0\n",
       "2 -2.889820  0.137346              0\n",
       "3 -2.746437  0.311124              0\n",
       "4 -2.728593 -0.333925              0"
      ]
     },
     "execution_count": 11,
     "metadata": {},
     "output_type": "execute_result"
    }
   ],
   "source": [
    "y_mapped = label_mapping(y)\n",
    "X_reduced_with_labels_df = X_reduced_df.copy()\n",
    "X_reduced_with_labels_df['IntegerLabels'] = y_mapped\n",
    "X_reduced_with_labels_df.head()"
   ]
  },
  {
   "cell_type": "code",
   "execution_count": 14,
   "id": "d0dae724-e5b3-42d7-b90f-a1d9ab2e365d",
   "metadata": {},
   "outputs": [
    {
     "name": "stdout",
     "output_type": "stream",
     "text": [
      "Accuracy before PCA: 70.0 %\n",
      "Accuracy after PCA: 63.33 %\n"
     ]
    }
   ],
   "source": [
    "labels_before_pca = spectral_clustering(X, 3)\n",
    "\n",
    "labels_after_pca = spectral_clustering(X_reduced_df,3)\n",
    "\n",
    "accuracy_before_pca = np.sum(labels_before_pca == y_mapped)/len(y_mapped)\n",
    "print(f'Accuracy before PCA: {accuracy_before_pca * 100} %')\n",
    "\n",
    "accuracy_after_pca = np.sum(labels_after_pca == y_mapped)/len(y_mapped)\n",
    "print(f'Accuracy after PCA: {round(accuracy_after_pca* 100, decimals = 2)} %')"
   ]
  },
  {
   "cell_type": "code",
   "execution_count": null,
   "id": "40fa82d0-f44f-449c-887e-1ddeac37aa35",
   "metadata": {},
   "outputs": [],
   "source": []
  }
 ],
 "metadata": {
  "kernelspec": {
   "display_name": "Python 3 (ipykernel)",
   "language": "python",
   "name": "python3"
  },
  "language_info": {
   "codemirror_mode": {
    "name": "ipython",
    "version": 3
   },
   "file_extension": ".py",
   "mimetype": "text/x-python",
   "name": "python",
   "nbconvert_exporter": "python",
   "pygments_lexer": "ipython3",
   "version": "3.10.0"
  }
 },
 "nbformat": 4,
 "nbformat_minor": 5
}
