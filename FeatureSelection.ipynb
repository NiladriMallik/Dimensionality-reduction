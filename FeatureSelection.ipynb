{
 "cells": [
  {
   "cell_type": "code",
   "execution_count": 1,
   "id": "b51ae156",
   "metadata": {},
   "outputs": [],
   "source": [
    "import numpy as np\n",
    "import pandas as pd\n",
    "import math"
   ]
  },
  {
   "cell_type": "code",
   "execution_count": 2,
   "id": "3990a120",
   "metadata": {},
   "outputs": [
    {
     "data": {
      "text/html": [
       "<div>\n",
       "<style scoped>\n",
       "    .dataframe tbody tr th:only-of-type {\n",
       "        vertical-align: middle;\n",
       "    }\n",
       "\n",
       "    .dataframe tbody tr th {\n",
       "        vertical-align: top;\n",
       "    }\n",
       "\n",
       "    .dataframe thead th {\n",
       "        text-align: right;\n",
       "    }\n",
       "</style>\n",
       "<table border=\"1\" class=\"dataframe\">\n",
       "  <thead>\n",
       "    <tr style=\"text-align: right;\">\n",
       "      <th></th>\n",
       "      <th>Index</th>\n",
       "      <th>x1,i</th>\n",
       "      <th>x2,i</th>\n",
       "      <th>yi</th>\n",
       "    </tr>\n",
       "  </thead>\n",
       "  <tbody>\n",
       "    <tr>\n",
       "      <th>0</th>\n",
       "      <td>i = 1</td>\n",
       "      <td>0</td>\n",
       "      <td>0</td>\n",
       "      <td>0</td>\n",
       "    </tr>\n",
       "    <tr>\n",
       "      <th>1</th>\n",
       "      <td>i = 2</td>\n",
       "      <td>1</td>\n",
       "      <td>0</td>\n",
       "      <td>-3</td>\n",
       "    </tr>\n",
       "    <tr>\n",
       "      <th>2</th>\n",
       "      <td>i = 3</td>\n",
       "      <td>0</td>\n",
       "      <td>1</td>\n",
       "      <td>-1</td>\n",
       "    </tr>\n",
       "    <tr>\n",
       "      <th>3</th>\n",
       "      <td>i = 4</td>\n",
       "      <td>2</td>\n",
       "      <td>1</td>\n",
       "      <td>-7</td>\n",
       "    </tr>\n",
       "    <tr>\n",
       "      <th>4</th>\n",
       "      <td>i = 5</td>\n",
       "      <td>1</td>\n",
       "      <td>2</td>\n",
       "      <td>-5</td>\n",
       "    </tr>\n",
       "    <tr>\n",
       "      <th>5</th>\n",
       "      <td>i = 6</td>\n",
       "      <td>-1</td>\n",
       "      <td>0</td>\n",
       "      <td>3</td>\n",
       "    </tr>\n",
       "    <tr>\n",
       "      <th>6</th>\n",
       "      <td>i = 7</td>\n",
       "      <td>0</td>\n",
       "      <td>-1</td>\n",
       "      <td>1</td>\n",
       "    </tr>\n",
       "    <tr>\n",
       "      <th>7</th>\n",
       "      <td>i = 8</td>\n",
       "      <td>-2</td>\n",
       "      <td>-1</td>\n",
       "      <td>7</td>\n",
       "    </tr>\n",
       "    <tr>\n",
       "      <th>8</th>\n",
       "      <td>i = 9</td>\n",
       "      <td>-1</td>\n",
       "      <td>-2</td>\n",
       "      <td>5</td>\n",
       "    </tr>\n",
       "  </tbody>\n",
       "</table>\n",
       "</div>"
      ],
      "text/plain": [
       "   Index  x1,i  x2,i  yi\n",
       "0  i = 1     0     0   0\n",
       "1  i = 2     1     0  -3\n",
       "2  i = 3     0     1  -1\n",
       "3  i = 4     2     1  -7\n",
       "4  i = 5     1     2  -5\n",
       "5  i = 6    -1     0   3\n",
       "6  i = 7     0    -1   1\n",
       "7  i = 8    -2    -1   7\n",
       "8  i = 9    -1    -2   5"
      ]
     },
     "execution_count": 2,
     "metadata": {},
     "output_type": "execute_result"
    }
   ],
   "source": [
    "data = [['i = 1',0,0,0],\n",
    "        ['i = 2',1,0,-3],\n",
    "        ['i = 3',0,1,-1],\n",
    "        ['i = 4',2,1,-7],\n",
    "        ['i = 5',1,2,-5],\n",
    "        ['i = 6',-1,0,3],\n",
    "        ['i = 7',0,-1,1],\n",
    "        ['i = 8',-2,-1,7],\n",
    "        ['i = 9',-1,-2,5]]\n",
    "df = pd.DataFrame(data, columns = ['Index','x1,i','x2,i','yi'])\n",
    "df"
   ]
  },
  {
   "cell_type": "code",
   "execution_count": 3,
   "id": "81542e38",
   "metadata": {},
   "outputs": [
    {
     "name": "stdout",
     "output_type": "stream",
     "text": [
      "v1: [ 0  1  0  2  1 -1  0 -2 -1], <class 'numpy.ndarray'>\n",
      "v2: [ 0  0  1  1  2  0 -1 -1 -2], <class 'numpy.ndarray'>\n",
      "y: [ 0 -3 -1 -7 -5  3  1  7  5], <class 'numpy.ndarray'>\n"
     ]
    }
   ],
   "source": [
    "x = df.drop(['Index'],axis = 1)[['x1,i','x2,i']]\n",
    "v1 = x['x1,i'].to_numpy()\n",
    "v2 = x['x2,i'].to_numpy()\n",
    "y = df['yi'].to_numpy()\n",
    "\n",
    "print(f'v1: {v1}, {type(v1)}')\n",
    "print(f'v2: {v2}, {type(v2)}')\n",
    "print(f'y: {y}, {type(y)}')"
   ]
  },
  {
   "cell_type": "code",
   "execution_count": 4,
   "id": "03bcfdd5",
   "metadata": {},
   "outputs": [
    {
     "name": "stdout",
     "output_type": "stream",
     "text": [
      "v1_norm: 3.4641016151377544, <class 'numpy.float64'>\n",
      "v2_norm: 3.4641016151377544, <class 'numpy.float64'>\n",
      "y_norm: 12.96148139681572, <class 'numpy.float64'>\n"
     ]
    }
   ],
   "source": [
    "v1_norm = np.linalg.norm(v1,ord = 2)\n",
    "v2_norm = np.linalg.norm(v2,ord = 2)\n",
    "y_norm = np.linalg.norm(y,ord = 2)\n",
    "\n",
    "print(f'v1_norm: {v1_norm}, {type(v1_norm)}')\n",
    "print(f'v2_norm: {v2_norm}, {type(v2_norm)}')\n",
    "print(f'y_norm: {y_norm}, {type(y_norm)}')"
   ]
  },
  {
   "cell_type": "code",
   "execution_count": 5,
   "id": "ecc4b333",
   "metadata": {},
   "outputs": [
    {
     "name": "stdout",
     "output_type": "stream",
     "text": [
      "rho_1: 0.9799578870122228, <class 'numpy.float64'>\n",
      "rho_2: 0.8017837257372732, <class 'numpy.float64'>\n"
     ]
    }
   ],
   "source": [
    "rho_1 = abs(np.dot(v1.transpose(), y)/np.multiply(v1_norm, y_norm))\n",
    "rho_2 = abs(np.dot(v2.transpose(), y)/np.multiply(v2_norm, y_norm))\n",
    "\n",
    "print(f'rho_1: {rho_1}, {type(rho_1)}')\n",
    "print(f'rho_2: {rho_2}, {type(rho_2)}')"
   ]
  },
  {
   "cell_type": "code",
   "execution_count": 6,
   "id": "fb93b4de",
   "metadata": {},
   "outputs": [
    {
     "name": "stdout",
     "output_type": "stream",
     "text": [
      "rho_1\n"
     ]
    }
   ],
   "source": [
    "if rho_1 > rho_2:\n",
    "    print('rho_1')\n",
    "else:\n",
    "    print('rho_2')"
   ]
  },
  {
   "cell_type": "markdown",
   "id": "5e4706c0",
   "metadata": {},
   "source": [
    "## Accumulating the above steps into a function"
   ]
  },
  {
   "cell_type": "code",
   "execution_count": 7,
   "id": "6687f96a",
   "metadata": {},
   "outputs": [],
   "source": [
    "def featureSelection(x,y):\n",
    "    l = len(x.columns)\n",
    "\n",
    "    #required empty arrays\n",
    "    vectors = []\n",
    "    vector_norms = []\n",
    "    pearson_coeffs = []\n",
    "    y = df.iloc[:,-1].to_numpy()\n",
    "\n",
    "    #appending column vectors to empty array\n",
    "    vectors = [x[i].to_numpy() for i in x.columns]\n",
    "\n",
    "    #appending vector norm values to empty array\n",
    "    vector_norms = [np.linalg.norm(vector, ord = 2) for vector in vectors]\n",
    "        \n",
    "    y_norm = np.linalg.norm(y,ord = 2)\n",
    "        \n",
    "    # print(f'vectors: {vectors}\\n')\n",
    "    # print(f'vector norms: {vector_norms}\\n')\n",
    "    # print(f'y norm: {y_norm}\\n')\n",
    "\n",
    "    #appending Pearson Correlation coefficients to empty array\n",
    "    pearson_coeffs = [\n",
    "            abs(np.dot(vectors[i].transpose(), y)/np.multiply(vector_norms[i], y_norm)) for i in range(l)\n",
    "        ]\n",
    "\n",
    "    #getting the maximum pearson coefficient and its index\n",
    "    max_pears_coeff = max(pearson_coeffs)\n",
    "    max_pears_coeff_index = pearson_coeffs.index(max_pears_coeff)\n",
    "\n",
    "    pears_coeff_tuple = tuple(zip(x.columns,pearson_coeffs))\n",
    "    # pears_coeff_df = pd.DataFrame(pears_coeff_tuple,columns = ['Column','Pearson Correlation Coefficient'])\n",
    "    pears_coeff_df = pd.DataFrame(pears_coeff_tuple,columns = ({\n",
    "        \"Column\" : x.columns,\n",
    "        \"Pearson Correlation Coeffs\" : pearson_coeffs\n",
    "    }))\n",
    "    \n",
    "    return x.columns[max_pears_coeff_index],max_pears_coeff"
   ]
  },
  {
   "cell_type": "code",
   "execution_count": 8,
   "id": "f284831c",
   "metadata": {},
   "outputs": [
    {
     "name": "stdout",
     "output_type": "stream",
     "text": [
      "x1,i\n",
      "0.9799578870122228\n"
     ]
    }
   ],
   "source": [
    "x = df.drop(['Index'],axis = 1)[['x1,i','x2,i']]\n",
    "y = df['yi'].to_numpy()\n",
    "(req_col,parson_coeff) = featureSelection(x,y)\n",
    "# featureSelection(x,y)\n",
    "print(req_col)\n",
    "print(parson_coeff)"
   ]
  }
 ],
 "metadata": {
  "kernelspec": {
   "display_name": "Python 3 (ipykernel)",
   "language": "python",
   "name": "python3"
  },
  "language_info": {
   "codemirror_mode": {
    "name": "ipython",
    "version": 3
   },
   "file_extension": ".py",
   "mimetype": "text/x-python",
   "name": "python",
   "nbconvert_exporter": "python",
   "pygments_lexer": "ipython3",
   "version": "3.10.0"
  }
 },
 "nbformat": 4,
 "nbformat_minor": 5
}
